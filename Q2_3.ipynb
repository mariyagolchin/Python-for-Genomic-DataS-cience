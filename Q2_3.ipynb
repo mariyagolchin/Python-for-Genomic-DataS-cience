{
  "nbformat": 4,
  "nbformat_minor": 0,
  "metadata": {
    "colab": {
      "name": "Q2-3.ipynb",
      "provenance": [],
      "mount_file_id": "1htqGWUl_Ex5X3t-eXipX7Zx5f-tEtcF6",
      "authorship_tag": "ABX9TyPC/jR22wu8amT1my5ItreV",
      "include_colab_link": true
    },
    "kernelspec": {
      "name": "python3",
      "display_name": "Python 3"
    },
    "language_info": {
      "name": "python"
    }
  },
  "cells": [
    {
      "cell_type": "markdown",
      "metadata": {
        "id": "view-in-github",
        "colab_type": "text"
      },
      "source": [
        "<a href=\"https://colab.research.google.com/github/mariyagolchin/Python-for-Genomic-DataS-cience/blob/main/Q2_3.ipynb\" target=\"_parent\"><img src=\"https://colab.research.google.com/assets/colab-badge.svg\" alt=\"Open In Colab\"/></a>"
      ]
    },
    {
      "cell_type": "markdown",
      "metadata": {
        "id": "YhoeoI_2Z-06"
      },
      "source": [
        "# Q2-3 \"\"\"What are the lengths of the sequences in the file? What is the longest sequence and what is the shortest sequence?\"\"\""
      ]
    },
    {
      "cell_type": "code",
      "metadata": {
        "colab": {
          "base_uri": "https://localhost:8080/"
        },
        "id": "zLiLREhBW6N6",
        "outputId": "5306e341-b034-4503-bd79-12ac3ceb0fe2"
      },
      "source": [
        "\n",
        "\n",
        "\n",
        "!wget \"https://github.com/tangxt1/Python-for-Genomic-Data-Science/blob/72ddccf8b75c64e403f451a7c063564120c14994/dna2.fasta\"\n"
      ],
      "execution_count": 2,
      "outputs": [
        {
          "output_type": "stream",
          "text": [
            "--2021-04-18 05:13:34--  https://github.com/tangxt1/Python-for-Genomic-Data-Science/blob/72ddccf8b75c64e403f451a7c063564120c14994/dna2.fasta\n",
            "Resolving github.com (github.com)... 192.30.255.113\n",
            "Connecting to github.com (github.com)|192.30.255.113|:443... connected.\n",
            "HTTP request sent, awaiting response... 200 OK\n",
            "Length: unspecified [text/html]\n",
            "Saving to: ‘dna2.fasta’\n",
            "\n",
            "dna2.fasta              [ <=>                ] 272.63K  --.-KB/s    in 0.03s   \n",
            "\n",
            "2021-04-18 05:13:34 (8.21 MB/s) - ‘dna2.fasta’ saved [279171]\n",
            "\n"
          ],
          "name": "stdout"
        }
      ]
    },
    {
      "cell_type": "code",
      "metadata": {
        "colab": {
          "base_uri": "https://localhost:8080/"
        },
        "id": "UqtMgZjTZzOZ",
        "outputId": "38c16247-0da3-47d0-ce29-d31d39067758"
      },
      "source": [
        "\"\"\"\n",
        "How many records are in the file?\n",
        "\"\"\"\n",
        "\n",
        "f = open(\"/content/drive/MyDrive/Python-for-Genomic-Data-Science/dna2.fasta\", \"r\")\n",
        "file = f.read()\n",
        "print(file.count('>'))\n"
      ],
      "execution_count": 3,
      "outputs": [
        {
          "output_type": "stream",
          "text": [
            "5248\n"
          ],
          "name": "stdout"
        }
      ]
    },
    {
      "cell_type": "code",
      "metadata": {
        "colab": {
          "base_uri": "https://localhost:8080/"
        },
        "id": "WbXNMiw1bDdZ",
        "outputId": "8e4a2b8d-5c5f-4ec7-f41a-ae3ac0badf06"
      },
      "source": [
        " length_counter=0\n",
        " counter_space=0\n",
        " counter_newline=0\n",
        " for i in file:\n",
        "  if  not i.startswith('>'):\n",
        "    if i==\" \" :\n",
        "      i=i.replace(\" \",\"\")\n",
        "      counter_space=counter_space+1\n",
        "      # print(\"space=>\",counter)\n",
        "    if i==\"\\n\":\n",
        "      i=i.replace(\"\\n\",\"\")\n",
        "      counter_newline=counter_newline+1\n",
        "  else:\n",
        "    length_counter=length_counter+1\n",
        "print(\"counter_newline=>\",counter_newline)\n",
        "print(\"counter_space=>\",counter_space)\n",
        "print(\"length_counter=>\",length_counter)"
      ],
      "execution_count": 16,
      "outputs": [
        {
          "output_type": "stream",
          "text": [
            "counter_newline=> 3825\n",
            "counter_space=> 37314\n",
            "length_counter=> 5248\n"
          ],
          "name": "stdout"
        }
      ]
    },
    {
      "cell_type": "code",
      "metadata": {
        "colab": {
          "base_uri": "https://localhost:8080/"
        },
        "id": "FTVo1R3heimp",
        "outputId": "b3076322-5af4-4893-c6bb-4f5e24e515de"
      },
      "source": [
        "\n",
        "f = open(\"/content/drive/MyDrive/Python-for-Genomic-Data-Science/dna2.fasta\", \"r\")\n",
        "file = f.readlines()\n",
        "c=0\n",
        "sequences = []\n",
        "seq = \"\"\n",
        "for f in file:\n",
        "    if not f.startswith('>'):\n",
        "        f = f.replace(\" \", \"\")\n",
        "        f = f.replace(\"\\n\", \"\")\n",
        "        seq = seq + f\n",
        "        c=c+1\n",
        "        # print(c)\n",
        "    else:\n",
        "        sequences.append(seq)\n",
        "        # print(seq,\"\\n\")\n",
        "        seq = \"\"\n",
        "\n",
        "# Add the last seq\n",
        "sequences.append(seq)\n",
        "# for x in sequences:\n",
        "#  print(x)\n",
        "\n",
        "sequences = sequences[1:]\n",
        "\n",
        "lengths = [len(i) for i in sequences]\n",
        "\n",
        "print(max(lengths), min(lengths))"
      ],
      "execution_count": 3,
      "outputs": [
        {
          "output_type": "stream",
          "text": [
            "197280 197280\n"
          ],
          "name": "stdout"
        }
      ]
    }
  ]
}